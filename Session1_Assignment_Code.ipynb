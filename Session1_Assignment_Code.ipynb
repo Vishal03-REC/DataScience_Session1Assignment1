{
 "cells": [
  {
   "cell_type": "code",
   "execution_count": 1,
   "metadata": {},
   "outputs": [
    {
     "name": "stdout",
     "output_type": "stream",
     "text": [
      "        \n",
      "Welcome to Sreedhara for Python Learning Experience\n",
      "        \n"
     ]
    }
   ],
   "source": [
    "#1st Session Assignment # \n",
    "# 1.\tInstall Jupiter notebook and run the first program and share the screenshot of the output. Navigator Screen\n",
    "\n",
    "print(\"        \")\n",
    "print(\"Welcome to Sreedhara for Python Learning Experience\")\n",
    "print(\"        \")"
   ]
  },
  {
   "cell_type": "code",
   "execution_count": 6,
   "metadata": {},
   "outputs": [
    {
     "name": "stdout",
     "output_type": "stream",
     "text": [
      "Below are Divisible by 7 but not a mulitples of 5 are \n",
      "2002,2009,2016,2023,2037,2044,2051,2058,2072,2079,2086,2093,2107,2114,2121,2128,2142,2149,2156,2163,2177,2184,2191,2198,2212,2219,2226,2233,2247,2254,2261,2268,2282,2289,2296,2303,2317,2324,2331,2338,2352,2359,2366,2373,2387,2394,2401,2408,2422,2429,2436,2443,2457,2464,2471,2478,2492,2499,2506,2513,2527,2534,2541,2548,2562,2569,2576,2583,2597,2604,2611,2618,2632,2639,2646,2653,2667,2674,2681,2688,2702,2709,2716,2723,2737,2744,2751,2758,2772,2779,2786,2793,2807,2814,2821,2828,2842,2849,2856,2863,2877,2884,2891,2898,2912,2919,2926,2933,2947,2954,2961,2968,2982,2989,2996,3003,3017,3024,3031,3038,3052,3059,3066,3073,3087,3094,3101,3108,3122,3129,3136,3143,3157,3164,3171,3178,3192,3199\n",
      "                  \n",
      "Below are Divisible by 7 and mulitples of 5 are \n",
      ",2030,2065,2100,2135,2170,2205,2240,2275,2310,2345,2380,2415,2450,2485,2520,2555,2590,2625,2660,2695,2730,2765,2800,2835,2870,2905,2940,2975,3010,3045,3080,3115,3150,3185\n"
     ]
    }
   ],
   "source": [
    "#1st Session Assignment # \n",
    "#2. Write a program which will find all such numbers which are divisible by 7 but are not a #multiple of 5, between 2000 \n",
    "#and 3200 (both included). The numbers obtained should be printed in a comma-separated sequence on a single line\n",
    "# To Store list range between 2000 and 3200\n",
    "\n",
    "list1=list(range(2000,3201))\n",
    "#To Divisible values\n",
    "divisible_by_7_but_not_multiple_of_5=''\n",
    "divisible_by_7_but_multiple_of_5=''\n",
    "\n",
    "#Go throght range and find which are divisible by 7 but are not a muliples of 5.\n",
    "for i in list1:\n",
    "    #Check the number whether divisible by 7 and not multiple of 5.\n",
    "    if i%7==0 and i%5!=0:\n",
    "        #check whether loop is first time\n",
    "        if divisible_by_7_but_not_multiple_of_5=='': \n",
    "            divisible_by_7_but_not_multiple_of_5=str(i)            \n",
    "        else:\n",
    "            divisible_by_7_but_not_multiple_of_5=divisible_by_7_but_not_multiple_of_5 +','+ str(i)            \n",
    "    #to get number divisible by 7 and multiple of 5\n",
    "    elif i%7==0 and i%5==0:\n",
    "        divisible_by_7_but_multiple_of_5=divisible_by_7_but_multiple_of_5 +','+ str(i)\n",
    "\n",
    "#To Print number which are stored above by using required logic.\n",
    "print('Below are Divisible by 7 but not a mulitples of 5 are ')\n",
    "print(divisible_by_7_but_not_multiple_of_5)\n",
    "print ('                  ')\n",
    "print('Below are Divisible by 7 and mulitples of 5 are ')\n",
    "print(divisible_by_7_but_multiple_of_5)\n"
   ]
  },
  {
   "cell_type": "raw",
   "metadata": {},
   "source": []
  },
  {
   "cell_type": "code",
   "execution_count": 1,
   "metadata": {},
   "outputs": [
    {
     "name": "stdout",
     "output_type": "stream",
     "text": [
      "Enter First Name: Avinandhara\n",
      "Enter Last Name: Sreedhara\n",
      "Name is  Avinandhara Sreedhara\n",
      "Name in Reverse Order is  Sreedhara Avinandhara\n",
      "           \n",
      "Names letter in Reverse Order\n",
      "First Name Reverse is  a r a h d n a n i v A \n",
      "Last Name Reverse is  a r a h d e e r S \n",
      "Full Name in Reverse letter is  a r a h d n a n i v A  a r a h d e e r S \n"
     ]
    }
   ],
   "source": [
    "#1st Session Assignment # \n",
    "#3. Write a Python program to accept the user's first and last name and then getting them printed in the the reverse \n",
    "#order with a space between first name and last name.\n",
    "\n",
    "#Recived First Name and Last name from Console\n",
    "firstName=input('Enter First Name: ')\n",
    "lastName=input('Enter Last Name: ')\n",
    "\n",
    "#Declare Variables to store Reverse First Name and Last Name.\n",
    "reverse_text_firstName=''\n",
    "reverse_text_lastName=''\n",
    "\n",
    "#Print Name\n",
    "print('Name is ', firstName +' '+ lastName)\n",
    "print('Name in Reverse Order is ', lastName +' '+firstName)\n",
    "print('           ')\n",
    "\n",
    "#Print letter in Reverse Order\n",
    "print('Names letter in Reverse Order')\n",
    "firstName2=list(firstName)\n",
    "lastName2=list(lastName)\n",
    "\n",
    "#loop thorugh, reverse letter and print reversed first name and last name.\n",
    "for str in firstName2:\n",
    "    reverse_text_firstName=str +' '+reverse_text_firstName\n",
    "print('First Name Reverse is ',reverse_text_firstName)\n",
    "for str in lastName2:\n",
    "    reverse_text_lastName=str +' '+reverse_text_lastName\n",
    "print('Last Name Reverse is ',reverse_text_lastName)\n",
    "print('Full Name in Reverse letter is ',reverse_text_firstName +' '+reverse_text_lastName)"
   ]
  },
  {
   "cell_type": "code",
   "execution_count": 2,
   "metadata": {},
   "outputs": [
    {
     "name": "stdout",
     "output_type": "stream",
     "text": [
      "Radious :  6.0\n",
      "Pi Value :  3.141592653589793\n",
      "volume of a sphere with diameter 12 cm is  904.7786842338603\n"
     ]
    }
   ],
   "source": [
    "#1st Session Assignment # \n",
    "#4. Write a Python program to find the volume of a sphere with diameter 12 cm.\n",
    "#Formula: V=4/3 * π * r 3\n",
    "#Import Math library\n",
    "import math\n",
    "#calculate Radious\n",
    "radious=12/2\n",
    "print('Radious : ', radious)\n",
    "print('Pi Value : ', math.pi)\n",
    "#Apply Formula and calculate Volume\n",
    "volume=4/3 * math.pi * radious**3\n",
    "print('volume of a sphere with diameter 12 cm is ' , volume)"
   ]
  }
 ],
 "metadata": {
  "kernelspec": {
   "display_name": "Python 3",
   "language": "python",
   "name": "python3"
  },
  "language_info": {
   "codemirror_mode": {
    "name": "ipython",
    "version": 3
   },
   "file_extension": ".py",
   "mimetype": "text/x-python",
   "name": "python",
   "nbconvert_exporter": "python",
   "pygments_lexer": "ipython3",
   "version": "3.6.5"
  }
 },
 "nbformat": 4,
 "nbformat_minor": 2
}
